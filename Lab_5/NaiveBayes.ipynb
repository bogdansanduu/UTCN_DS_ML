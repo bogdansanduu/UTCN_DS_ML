{
 "cells": [
  {
   "cell_type": "code",
   "execution_count": 1,
   "metadata": {},
   "outputs": [],
   "source": [
    "import numpy as np\n",
    "import matplotlib.pyplot as plt\n",
    "from sklearn.datasets import fetch_openml\n",
    "from ipywidgets import interact"
   ]
  },
  {
   "cell_type": "code",
   "execution_count": 2,
   "metadata": {},
   "outputs": [],
   "source": [
    "class BernoulliNaiveBayes:\n",
    "     def __init__(self, alpha=1):\n",
    "     \n",
    "        # Initializes the Bernoulli Naive Bayes classifier with Laplace smoothing parameter alpha.\n",
    "        self.alpha = alpha\n",
    "        self.class_priors = None\n",
    "        self.feature_probs = None\n",
    "        self.log_class_priors = None\n",
    "        self.log_feature_probs = None\n",
    "        self.log_feature_probs_neg = None\n",
    "        self.n_classes = None\n",
    "\n",
    "     def compute_priors(self, y):\n",
    "          # Compute the class priors P(c) for each class c.\n",
    "          # input: y - np.ndarray of shape (n_samples,)\n",
    "          # output: class_priors - np.ndarray of shape (n_classes,)\n",
    "          class_priors = None\n",
    "\n",
    "          ########## Your code goes here ##########\n",
    "\n",
    "         \n",
    "          ##########################################\n",
    "          return class_priors\n",
    "    \n",
    "     def compute_likelihood(self, X, y):\n",
    "        \n",
    "          #    Compute the likelihood P(X|c) for each class c.\n",
    "          #    Parameters:\n",
    "          #    - X: np.ndarray of shape (n_samples, n_features)\n",
    "          #         Binary feature matrix.\n",
    "          #    - y: np.ndarray of shape (n_samples,)\n",
    "          #    Returns:\n",
    "          #    - likelihood: np.ndarray of shape (n_classes, n_samples) Likelihood matrix.\n",
    "\n",
    "          feature_probs = np.zeros((self.n_classes, X.shape[1]))\n",
    "\n",
    "          ########## Your code goes here ##########\n",
    "         \n",
    "\n",
    "          ##########################################\n",
    "            \n",
    "          return feature_probs\n",
    "\n",
    "\n",
    "     def fit(self, X, y):\n",
    "          # Fits the model according to the given training data.\n",
    "          # Parameters:\n",
    "          # - X: np.ndarray of shape (n_samples, n_features)\n",
    "          #      Binary feature matrix.\n",
    "          # - y: np.ndarray of shape (n_samples,)\n",
    "          #      Target vector.\n",
    "\n",
    "          self.n_classes, self.class_priors, self.feature_probs, self.log_class_priors, self.log_feature_probs, self.log_feature_probs_neg = None, None, None, None, None, None\n",
    "\n",
    "          ########## Your code goes here ##########\n",
    "          \n",
    "          # Number of classes and features\n",
    "          \n",
    "          # Compute class priors P(c)\n",
    "          \n",
    "          # Initialize feature probabilities\n",
    "          \n",
    "          # Precompute log probabilities\n",
    "\n",
    "          ##########################################\n",
    "\n",
    "     def predict_log_proba(self, X):\n",
    "          # Returns the log-probability estimates for the test vector X.\n",
    "          # Parameters:\n",
    "          # - X: np.ndarray of shape (n_samples, n_features)\n",
    "          #      Binary feature matrix.\n",
    "          # Returns:\n",
    "          # - log_probs: np.ndarray of shape (n_samples, n_classes)\n",
    "          #                Log-probability estimates.\n",
    "          \n",
    "          ########## Your code goes here ##########\n",
    "          # Vectorized computation of log probabilities\n",
    "        \n",
    "          ##########################################\n",
    "          \n",
    "          return log_probs\n",
    "\n",
    "     def predict(self, X):\n",
    "          # Performs classification on an array of test vectors X.\n",
    "          # Parameters:\n",
    "          # - X: np.ndarray of shape (n_samples, n_features)\n",
    "          #      Binary feature matrix.\n",
    "          # Returns:\n",
    "          # - y_pred: np.ndarray of shape (n_samples,)\n",
    "          #           Predicted target values.\n",
    "          pred = None\n",
    "\n",
    "          ########## Your code goes here ##########\n",
    "\n",
    "         \n",
    "          ##########################################\n",
    "\n",
    "          return pred\n",
    "\n",
    "     def accuracy(self, X, y):\n",
    "          # Returns the mean accuracy on the given test data and labels.\n",
    "          #  Parameters:\n",
    "          #  - X: np.ndarray of shape (n_samples, n_features) Test samples.\n",
    "          #  - y: np.ndarray of shape (n_samples,) True labels for X.\n",
    "          #    Returns:\n",
    "          # - accuracy: float Mean accuracy of self.predict(X) wrt. y.\n",
    "          accuracy = None\n",
    "\n",
    "          ########## Your code goes here ##########\n",
    "\n",
    "         \n",
    "          ##########################################\n",
    "          \n",
    "          return accuracy\n"
   ]
  },
  {
   "cell_type": "code",
   "execution_count": 3,
   "metadata": {},
   "outputs": [
    {
     "name": "stdout",
     "output_type": "stream",
     "text": [
      "Loading MNIST dataset...\n",
      "Training the Bernoulli Naive Bayes classifier...\n",
      "Evaluating the classifier on the test set...\n",
      "Accuracy: 84.33%\n"
     ]
    }
   ],
   "source": [
    "# Load MNIST dataset\n",
    "print(\"Loading MNIST dataset...\")\n",
    "mnist = fetch_openml('mnist_784', version=1, as_frame=False)\n",
    "X, y = mnist[\"data\"], mnist[\"target\"].astype(np.int8)\n",
    "\n",
    "# Split into training and test sets\n",
    "X_train, X_test = X[:60000], X[60000:]\n",
    "y_train, y_test = y[:60000], y[60000:]\n",
    "\n",
    "# Binarize the images\n",
    "\n",
    "X_train_bin, X_test_bin = None, None\n",
    "########## Your code goes here ##########\n",
    "\n",
    "\n",
    "##########################################\n",
    "\n",
    "# Create and train the classifier\n",
    "alpha = 1  # Laplace smoothing parameter\n",
    "nb_classifier = BernoulliNaiveBayes(alpha=alpha)\n",
    "print(\"Training the Bernoulli Naive Bayes classifier...\")\n",
    "nb_classifier.fit(X_train_bin, y_train)\n",
    "\n",
    "# Evaluate the classifier\n",
    "print(\"Evaluating the classifier on the test set...\")\n",
    "accuracy = nb_classifier.accuracy(X_test_bin, y_test)\n",
    "print(f\"Accuracy: {accuracy * 100:.2f}%\")"
   ]
  },
  {
   "cell_type": "code",
   "execution_count": 4,
   "metadata": {},
   "outputs": [
    {
     "name": "stdout",
     "output_type": "stream",
     "text": [
      "Use the slider to browse through test images.\n"
     ]
    },
    {
     "data": {
      "application/vnd.jupyter.widget-view+json": {
       "model_id": "77cd367a6a974eeeb9e3b6fbc61aab7d",
       "version_major": 2,
       "version_minor": 0
      },
      "text/plain": [
       "interactive(children=(IntSlider(value=4999, description='index', max=9999), Output()), _dom_classes=('widget-i…"
      ]
     },
     "metadata": {},
     "output_type": "display_data"
    },
    {
     "data": {
      "text/plain": [
       "<function __main__.show_test_sample(index)>"
      ]
     },
     "execution_count": 4,
     "metadata": {},
     "output_type": "execute_result"
    }
   ],
   "source": [
    "# Get the predicted labels on the test set\n",
    "y_pred_test = nb_classifier.predict(X_test_bin)\n",
    "\n",
    "def show_test_sample(index):\n",
    "    \"\"\"\n",
    "    Displays the test image at the given index, along with its true and predicted labels.\n",
    "    \"\"\"\n",
    "    image = X_test[index].reshape(28, 28)  # Use original grayscale image for better visualization\n",
    "    true_label = y_test[index]\n",
    "    predicted_label = y_pred_test[index]\n",
    "    \n",
    "    plt.figure(figsize=(4, 4))\n",
    "    plt.imshow(image, cmap='gray')\n",
    "    plt.title(f\"Index: {index}\\nTrue Label: {true_label} | Predicted Label: {predicted_label}\")\n",
    "    plt.axis('off')\n",
    "    plt.show()\n",
    "\n",
    "# Create an interactive widget to browse through test samples\n",
    "print(\"Use the slider to browse through test images.\")\n",
    "interact(show_test_sample, index=(0, len(X_test) - 1))"
   ]
  }
 ],
 "metadata": {
  "kernelspec": {
   "display_name": "Python 3 (ipykernel)",
   "language": "python",
   "name": "python3"
  },
  "language_info": {
   "codemirror_mode": {
    "name": "ipython",
    "version": 3
   },
   "file_extension": ".py",
   "mimetype": "text/x-python",
   "name": "python",
   "nbconvert_exporter": "python",
   "pygments_lexer": "ipython3",
   "version": "3.12.7"
  }
 },
 "nbformat": 4,
 "nbformat_minor": 4
}
