{
 "cells": [
  {
   "cell_type": "code",
   "metadata": {
    "ExecuteTime": {
     "end_time": "2024-12-19T07:24:26.854978Z",
     "start_time": "2024-12-19T07:24:26.848740Z"
    }
   },
   "source": [
    "import numpy as np\n",
    "import matplotlib.pyplot as plt\n",
    "from sklearn.datasets import fetch_openml\n",
    "from ipywidgets import interact"
   ],
   "outputs": [],
   "execution_count": 7
  },
  {
   "cell_type": "code",
   "metadata": {
    "ExecuteTime": {
     "end_time": "2024-12-19T07:24:27.054208Z",
     "start_time": "2024-12-19T07:24:27.048549Z"
    }
   },
   "source": [
    "class BernoulliNaiveBayes:\n",
    "    def __init__(self, alpha=1):\n",
    "        self.alpha = alpha\n",
    "        self.class_priors = None\n",
    "        self.feature_probs = None\n",
    "        self.log_class_priors = None\n",
    "        self.log_feature_probs = None\n",
    "        self.log_feature_probs_neg = None\n",
    "        self.n_classes = None\n",
    "\n",
    "    def compute_priors(self, y):\n",
    "        class_counts = np.bincount(y)\n",
    "        class_priors = class_counts / len(y)\n",
    "        return class_priors\n",
    "\n",
    "    def compute_likelihood(self, X, y):\n",
    "        n_classes = self.n_classes\n",
    "        n_features = X.shape[1]\n",
    "        feature_probs = np.zeros((n_classes, n_features))\n",
    "\n",
    "        for c in range(n_classes):\n",
    "            X_c = X[y == c]\n",
    "            feature_probs[c, :] = (np.sum(X_c, axis=0) + self.alpha) / (X_c.shape[0] + 2 * self.alpha)\n",
    "\n",
    "        return feature_probs\n",
    "\n",
    "    def fit(self, X, y):\n",
    "        self.n_classes = np.max(y) + 1\n",
    "        self.class_priors = self.compute_priors(y)\n",
    "        self.feature_probs = self.compute_likelihood(X, y)\n",
    "        self.log_class_priors = np.log(self.class_priors)\n",
    "        self.log_feature_probs = np.log(self.feature_probs)\n",
    "        self.log_feature_probs_neg = np.log(1 - self.feature_probs)\n",
    "\n",
    "    def predict_log_proba(self, X):\n",
    "        # Vectorized computation of log-probabilities\n",
    "        log_probs = (\n",
    "            self.log_class_priors[np.newaxis, :] +\n",
    "            X @ self.log_feature_probs.T +\n",
    "            (1 - X) @ self.log_feature_probs_neg.T\n",
    "        )\n",
    "        return log_probs\n",
    "\n",
    "    def predict(self, X):\n",
    "        log_probs = self.predict_log_proba(X)\n",
    "        pred = np.argmax(log_probs, axis=1)\n",
    "        return pred\n",
    "\n",
    "    def accuracy(self, X, y):\n",
    "        y_pred = self.predict(X)\n",
    "        accuracy = np.mean(y_pred == y)\n",
    "        return accuracy"
   ],
   "outputs": [],
   "execution_count": 8
  },
  {
   "cell_type": "code",
   "metadata": {
    "ExecuteTime": {
     "end_time": "2024-12-19T07:24:36.582699Z",
     "start_time": "2024-12-19T07:24:27.497196Z"
    }
   },
   "source": [
    "# Load MNIST dataset\n",
    "print(\"Loading MNIST dataset...\")\n",
    "mnist = fetch_openml('mnist_784', version=1, as_frame=False)\n",
    "X, y = mnist[\"data\"], mnist[\"target\"].astype(np.int8)\n",
    "\n",
    "# Split into training and test sets\n",
    "X_train, X_test = X[:60000], X[60000:]\n",
    "y_train, y_test = y[:60000], y[60000:]\n",
    "\n",
    "# Binarize the images\n",
    "threshold = 128  # Threshold for binarization\n",
    "X_train_bin = (X_train >= threshold).astype(np.int8)\n",
    "X_test_bin = (X_test >= threshold).astype(np.int8)\n",
    "\n",
    "# Create and train the classifier\n",
    "alpha = 1  # Laplace smoothing parameter\n",
    "nb_classifier = BernoulliNaiveBayes(alpha=alpha)\n",
    "print(\"Training the Bernoulli Naive Bayes classifier...\")\n",
    "nb_classifier.fit(X_train_bin, y_train)\n",
    "\n",
    "# Evaluate the classifier\n",
    "print(\"Evaluating the classifier on the test set...\")\n",
    "accuracy = nb_classifier.accuracy(X_test_bin, y_test)\n",
    "print(f\"Accuracy: {accuracy * 100:.2f}%\")"
   ],
   "outputs": [
    {
     "name": "stdout",
     "output_type": "stream",
     "text": [
      "Loading MNIST dataset...\n",
      "Training the Bernoulli Naive Bayes classifier...\n",
      "Evaluating the classifier on the test set...\n",
      "Accuracy: 84.27%\n"
     ]
    }
   ],
   "execution_count": 9
  },
  {
   "cell_type": "code",
   "metadata": {
    "ExecuteTime": {
     "end_time": "2024-12-19T07:24:38.777107Z",
     "start_time": "2024-12-19T07:24:38.607236Z"
    }
   },
   "source": [
    "# Get the predicted labels on the test set\n",
    "y_pred_test = nb_classifier.predict(X_test_bin)\n",
    "\n",
    "def show_test_sample(index):\n",
    "    \"\"\"\n",
    "    Displays the test image at the given index, along with its true and predicted labels.\n",
    "    \"\"\"\n",
    "    image = X_test[index].reshape(28, 28)  # Use original grayscale image for better visualization\n",
    "    true_label = y_test[index]\n",
    "    predicted_label = y_pred_test[index]\n",
    "    \n",
    "    plt.figure(figsize=(4, 4))\n",
    "    plt.imshow(image, cmap='gray')\n",
    "    plt.title(f\"Index: {index}\\nTrue Label: {true_label} | Predicted Label: {predicted_label}\")\n",
    "    plt.axis('off')\n",
    "    plt.show()\n",
    "\n",
    "# Create an interactive widget to browse through test samples\n",
    "print(\"Use the slider to browse through test images.\")\n",
    "interact(show_test_sample, index=(0, len(X_test) - 1))"
   ],
   "outputs": [
    {
     "name": "stdout",
     "output_type": "stream",
     "text": [
      "Use the slider to browse through test images.\n"
     ]
    },
    {
     "data": {
      "text/plain": [
       "interactive(children=(IntSlider(value=4999, description='index', max=9999), Output()), _dom_classes=('widget-i…"
      ],
      "application/vnd.jupyter.widget-view+json": {
       "version_major": 2,
       "version_minor": 0,
       "model_id": "b11491e9fdf54d38904c921a444d6d1c"
      }
     },
     "metadata": {},
     "output_type": "display_data"
    },
    {
     "data": {
      "text/plain": [
       "<function __main__.show_test_sample(index)>"
      ]
     },
     "execution_count": 10,
     "metadata": {},
     "output_type": "execute_result"
    }
   ],
   "execution_count": 10
  },
  {
   "metadata": {},
   "cell_type": "code",
   "outputs": [],
   "execution_count": null,
   "source": ""
  }
 ],
 "metadata": {
  "kernelspec": {
   "display_name": "Python 3 (ipykernel)",
   "language": "python",
   "name": "python3"
  },
  "language_info": {
   "codemirror_mode": {
    "name": "ipython",
    "version": 3
   },
   "file_extension": ".py",
   "mimetype": "text/x-python",
   "name": "python",
   "nbconvert_exporter": "python",
   "pygments_lexer": "ipython3",
   "version": "3.12.7"
  }
 },
 "nbformat": 4,
 "nbformat_minor": 4
}
